{
 "cells": [
  {
   "cell_type": "markdown",
   "metadata": {},
   "source": [
    "#### KNN to find nearest neighbour"
   ]
  },
  {
   "cell_type": "code",
   "execution_count": 60,
   "metadata": {},
   "outputs": [],
   "source": [
    "def nearest_neighbor(data,x):\n",
    "    nearest_neighbor = None;\n",
    "    first_iteration = True;\n",
    "    \n",
    "    for point in data:\n",
    "        dist = abs(point[0] - x)\n",
    "        if first_iteration or dist < min_dist:\n",
    "            min_dist = dist;\n",
    "            nearest_neighbor = point[1];\n",
    "            first_iteration = False;\n",
    "    return nearest_neighbor;\n",
    "        "
   ]
  },
  {
   "cell_type": "code",
   "execution_count": 61,
   "metadata": {},
   "outputs": [],
   "source": [
    "data = [[1, 10], [2, 20], [3, 30], [10, 100]]"
   ]
  },
  {
   "cell_type": "code",
   "execution_count": 66,
   "metadata": {},
   "outputs": [
    {
     "name": "stdout",
     "output_type": "stream",
     "text": [
      "30\n"
     ]
    }
   ],
   "source": [
    "print(nearest_neighbor(data,6.5))"
   ]
  },
  {
   "cell_type": "raw",
   "metadata": {},
   "source": [
    "### solve KNN using binary search\n",
    "1. Sort the data first\n",
    "2. take the decision based on this which side we need to go... take meadian and moe left or right"
   ]
  },
  {
   "cell_type": "code",
   "execution_count": null,
   "metadata": {},
   "outputs": [],
   "source": []
  }
 ],
 "metadata": {
  "kernelspec": {
   "display_name": "Python3.10",
   "language": "python",
   "name": "python3.10"
  },
  "language_info": {
   "codemirror_mode": {
    "name": "ipython",
    "version": 3
   },
   "file_extension": ".py",
   "mimetype": "text/x-python",
   "name": "python",
   "nbconvert_exporter": "python",
   "pygments_lexer": "ipython3",
   "version": "3.10.14"
  },
  "toc": {
   "base_numbering": 1,
   "nav_menu": {},
   "number_sections": true,
   "sideBar": true,
   "skip_h1_title": false,
   "title_cell": "Table of Contents",
   "title_sidebar": "Contents",
   "toc_cell": false,
   "toc_position": {},
   "toc_section_display": true,
   "toc_window_display": false
  }
 },
 "nbformat": 4,
 "nbformat_minor": 2
}
