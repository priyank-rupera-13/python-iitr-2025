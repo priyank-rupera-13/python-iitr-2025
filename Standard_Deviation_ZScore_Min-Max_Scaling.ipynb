{
 "cells": [
  {
   "cell_type": "markdown",
   "metadata": {},
   "source": [
    "## Find a Mean"
   ]
  },
  {
   "cell_type": "code",
   "execution_count": 29,
   "metadata": {},
   "outputs": [],
   "source": [
    "def find_mean(element_array):\n",
    "    element_count = len(element_array)\n",
    "    sum = 0;\n",
    "    mean_value = None;\n",
    "    if(element_count == 0):\n",
    "        print(f'No element are present in the array');\n",
    "    else:\n",
    "        for i in element_array:\n",
    "            sum += i\n",
    "        mean_value = sum/element_count\n",
    "        return element_count ,mean_value"
   ]
  },
  {
   "cell_type": "code",
   "execution_count": 32,
   "metadata": {},
   "outputs": [
    {
     "name": "stdout",
     "output_type": "stream",
     "text": [
      "(4, 4.75)\n"
     ]
    }
   ],
   "source": [
    "array = [10,2,3,4,]\n",
    "result = find_mean(array)\n",
    "print (result)"
   ]
  },
  {
   "cell_type": "markdown",
   "metadata": {},
   "source": [
    "## Standard Deviation"
   ]
  },
  {
   "attachments": {
    "image.png": {
     "image/png": "[encoded data removed]"
    }
   },
   "cell_type": "markdown",
   "metadata": {},
   "source": [
    "#### Standard deviation is a way to measure how spread out the numbers in a set are. Here's a simple explanation:\n",
    "\n",
    "1. **Find the Average**: First, you calculate the average (mean) of all the numbers. This is done by adding up all the numbers and then dividing by how many numbers there are.\n",
    "\n",
    "2. **Calculate Differences**: Next, you find out how far each number is from the average. This is done by subtracting the average from each number. These differences show how much each number deviates from the average.\n",
    "\n",
    "3. **Square the Differences**: To make sure all differences are positive and to give more weight to larger differences, you square each of these differences (multiply each difference by itself).\n",
    "\n",
    "4. **Average of Squared Differences**: Then, you calculate the average of these squared differences. This average is called the variance.\n",
    "\n",
    "5. **Square Root of Variance**: Finally, you take the square root of the variance to get the standard deviation. The square root is taken to bring the result back to the original scale of the numbers.\n",
    "\n",
    "In simple terms, standard deviation tells you how much the numbers in a set vary from the average number. If the standard deviation is low, the numbers are close to the average. If it is high, the numbers are spread out over a wider range.\n",
    "\n",
    "![image.png](attachment:image.png)"
   ]
  },
  {
   "cell_type": "code",
   "execution_count": 27,
   "metadata": {},
   "outputs": [],
   "source": [
    "import math as m\n",
    "def find_standard_deviation(element_array):\n",
    "    element_count = len(element_array)\n",
    "    mean = find_mean(element_array)\n",
    "    total_variance = 0\n",
    "    total_diff_sqr = 0\n",
    "    \n",
    "    for element in element_array:\n",
    "        difference = element - mean\n",
    "        diff_sqr = difference * difference\n",
    "        total_diff_sqr += diff_sqr\n",
    "        \n",
    "    variance = total_diff_sqr / element_count\n",
    "    sd = m.sqrt(variance)\n",
    "    return sd;"
   ]
  },
  {
   "cell_type": "code",
   "execution_count": 28,
   "metadata": {},
   "outputs": [
    {
     "name": "stdout",
     "output_type": "stream",
     "text": [
      "1.118033988749895\n"
     ]
    }
   ],
   "source": [
    "element_array = [1,2,3,4]\n",
    "result_sd = find_standard_deviation(element_array)\n",
    "print(result_sd)"
   ]
  },
  {
   "cell_type": "code",
   "execution_count": null,
   "metadata": {},
   "outputs": [],
   "source": []
  }
 ],
 "metadata": {
  "kernelspec": {
   "display_name": "Python3.10",
   "language": "python",
   "name": "python3.10"
  },
  "language_info": {
   "codemirror_mode": {
    "name": "ipython",
    "version": 3
   },
   "file_extension": ".py",
   "mimetype": "text/x-python",
   "name": "python",
   "nbconvert_exporter": "python",
   "pygments_lexer": "ipython3",
   "version": "3.10.14"
  },
  "toc": {
   "base_numbering": 1,
   "nav_menu": {},
   "number_sections": true,
   "sideBar": true,
   "skip_h1_title": false,
   "title_cell": "Table of Contents",
   "title_sidebar": "Contents",
   "toc_cell": false,
   "toc_position": {},
   "toc_section_display": true,
   "toc_window_display": false
  }
 },
 "nbformat": 4,
 "nbformat_minor": 2
}
