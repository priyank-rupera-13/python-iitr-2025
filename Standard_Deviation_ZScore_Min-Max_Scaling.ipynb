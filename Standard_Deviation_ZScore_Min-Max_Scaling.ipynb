{
 "cells": [
  {
   "cell_type": "markdown",
   "metadata": {},
   "source": [
    "## Find a Mean"
   ]
  },
  {
   "cell_type": "code",
   "execution_count": 32,
   "metadata": {},
   "outputs": [],
   "source": [
    "def find_mean(element_array):\n",
    "    element_count = len(element_array)\n",
    "    sum = 0;\n",
    "    mean_value = None;\n",
    "    if(element_count == 0):\n",
    "        print(f'No element are present in the array');\n",
    "    else:\n",
    "        for i in element_array:\n",
    "            sum += i\n",
    "        mean_value = sum/element_count\n",
    "        return mean_value"
   ]
  },
  {
   "cell_type": "code",
   "execution_count": 33,
   "metadata": {},
   "outputs": [
    {
     "name": "stdout",
     "output_type": "stream",
     "text": [
      "4.75\n"
     ]
    }
   ],
   "source": [
    "array = [10,2,3,4,]\n",
    "result = find_mean(array)\n",
    "print (result)"
   ]
  },
  {
   "cell_type": "markdown",
   "metadata": {},
   "source": [
    "## Standard Deviation"
   ]
  },
  {
   "attachments": {
    "image.png": {
     "image/png": "[encoded data removed]"
    }
   },
   "cell_type": "markdown",
   "metadata": {},
   "source": [
    "#### Standard deviation is a way to measure how spread out the numbers in a set are. Here's a simple explanation:\n",
    "\n",
    "1. **Find the Average**: First, you calculate the average (mean) of all the numbers. This is done by adding up all the numbers and then dividing by how many numbers there are.\n",
    "\n",
    "2. **Calculate Differences**: Next, you find out how far each number is from the average. This is done by subtracting the average from each number. These differences show how much each number deviates from the average.\n",
    "\n",
    "3. **Square the Differences**: To make sure all differences are positive and to give more weight to larger differences, you square each of these differences (multiply each difference by itself).\n",
    "\n",
    "4. **Average of Squared Differences**: Then, you calculate the average of these squared differences. This average is called the variance.\n",
    "\n",
    "5. **Square Root of Variance**: Finally, you take the square root of the variance to get the standard deviation. The square root is taken to bring the result back to the original scale of the numbers.\n",
    "\n",
    "In simple terms, standard deviation tells you how much the numbers in a set vary from the average number. If the standard deviation is low, the numbers are close to the average. If it is high, the numbers are spread out over a wider range.\n",
    "\n",
    "![image.png](attachment:image.png)"
   ]
  },
  {
   "cell_type": "code",
   "execution_count": 34,
   "metadata": {},
   "outputs": [],
   "source": [
    "import math as m\n",
    "def find_standard_deviation(element_array):\n",
    "    element_count = len(element_array)\n",
    "    mean = find_mean(element_array)\n",
    "    total_variance = 0\n",
    "    total_diff_sqr = 0\n",
    "    \n",
    "    for element in element_array:\n",
    "        difference = element - mean\n",
    "        diff_sqr = difference * difference\n",
    "        total_diff_sqr += diff_sqr\n",
    "        \n",
    "    variance = total_diff_sqr / element_count\n",
    "    sd = m.sqrt(variance)\n",
    "    return sd;"
   ]
  },
  {
   "cell_type": "code",
   "execution_count": 35,
   "metadata": {},
   "outputs": [
    {
     "name": "stdout",
     "output_type": "stream",
     "text": [
      "1.118033988749895\n"
     ]
    }
   ],
   "source": [
    "element_array = [1,2,3,4]\n",
    "result_sd = find_standard_deviation(element_array)\n",
    "print(result_sd)"
   ]
  },
  {
   "attachments": {
    "image.png": {
     "image/png": "[encoded data removed]"
    }
   },
   "cell_type": "markdown",
   "metadata": {},
   "source": [
    "## Z - score\n",
    "\n",
    "The z-score, also known as the standard score, measures how far a data point is from the average of a dataset which is nothing but the mean(μ), in terms of standard deviations. It helps to understand if a data point is typical or unusual compared to the rest of the data.\n",
    "\n",
    "### Formula:\n",
    "\n",
    "![image.png](attachment:image.png)\n",
    "\n",
    "### Breakdown of the formula:\n",
    "-  x : The value of the data point you are evaluating.\n",
    "- mu (μ) : The mean (average) of the dataset.\n",
    "- σ : The standard deviation of the dataset, which measures the amount of variation or dispersion of the dataset.\n",
    "\n",
    "### Steps:\n",
    "1. **Subtract the mean (μ) from the data point (x)**: This step calculates how far the data point is from the average.\n",
    "2. **Divide the result by the standard deviation (σ)**: This step scales the difference by the standard deviation, giving a measure of how many standard deviations the data point is away from the mean.\n",
    "\n",
    "A positive z-score indicates the data point is above the mean, while a negative z-score indicates it is below the mean."
   ]
  },
  {
   "cell_type": "code",
   "execution_count": 36,
   "metadata": {},
   "outputs": [],
   "source": [
    "def find_zscore(element, mean, standard_deviation):\n",
    "    z_score = (element - mean) / standard_deviation\n",
    "    return z_score"
   ]
  },
  {
   "cell_type": "code",
   "execution_count": 37,
   "metadata": {},
   "outputs": [],
   "source": [
    "def find_zscores(element_array, mean, standard_deviation):\n",
    "    z_scores = []\n",
    "    for element in element_array:\n",
    "        z_score = find_zscore(element, mean, standard_deviation)\n",
    "        z_scores.append(z_score)\n",
    "    return z_scores"
   ]
  },
  {
   "cell_type": "code",
   "execution_count": 38,
   "metadata": {},
   "outputs": [
    {
     "name": "stdout",
     "output_type": "stream",
     "text": [
      "mean is  :: -0.45454545454545453 \n",
      "\n",
      "z_scores for the elements is ::\n",
      "\n",
      " [-2.3452056406883908, -0.002344140703642943, -6.929019815224707e-05, 3.411209755187548e-06, 5.756416461878987e-06, 8.101623168570426e-06, 1.0446829875261864e-05, 1.2792036581953304e-05, 2.4518070115410502e-05, 0.002346272709739935, 2.3452077726944878]\n"
     ]
    }
   ],
   "source": [
    "element_array = [-1000000, -1000, -30, 1,2,3,4,5, 10, 1000, 1000000]\n",
    "mean = find_mean(element_array)\n",
    "standard_deviation = find_standard_deviation(element_array)\n",
    "print (f'mean is  :: {mean} \\n')\n",
    "\n",
    "z_scores = find_zscores(element_array,mean,standard_deviation)\n",
    "print(f'z_scores for the elements is ::\\n\\n {z_scores}' )"
   ]
  },
  {
   "cell_type": "markdown",
   "metadata": {},
   "source": [
    "## Given a list of numbers, print the numbers which are outliers. An outlier is the one with z_score above 2 or below -2."
   ]
  },
  {
   "cell_type": "code",
   "execution_count": 56,
   "metadata": {},
   "outputs": [],
   "source": [
    "def find_outliers(data_array):\n",
    "    outliers = []\n",
    "    if(len(data_array) == 0):\n",
    "        print('Data list is empty')\n",
    "    else:\n",
    "        mu = find_mean(data_array)\n",
    "        sd = find_standard_deviation(data_array)\n",
    "        \n",
    "        for i in data_array:\n",
    "            z_score = find_zscore(i,mu,sd)\n",
    "            if(z_score < -2 or z_score > 2):\n",
    "                outliers.append(i);\n",
    "        return outliers;\n",
    "            "
   ]
  },
  {
   "cell_type": "code",
   "execution_count": 66,
   "metadata": {},
   "outputs": [
    {
     "name": "stdout",
     "output_type": "stream",
     "text": [
      "Outliers from the data are :: [109808034]\n"
     ]
    }
   ],
   "source": [
    "data_array =  [-4, -2, 1, 1, 3, 3, 4, 6, 8,999,-9999,109808034]\n",
    "result = find_outliers(data_array)\n",
    "\n",
    "print(f'Outliers from the data are :: {result}')"
   ]
  },
  {
   "cell_type": "code",
   "execution_count": null,
   "metadata": {},
   "outputs": [],
   "source": []
  }
 ],
 "metadata": {
  "kernelspec": {
   "display_name": "Python3.10",
   "language": "python",
   "name": "python3.10"
  },
  "language_info": {
   "codemirror_mode": {
    "name": "ipython",
    "version": 3
   },
   "file_extension": ".py",
   "mimetype": "text/x-python",
   "name": "python",
   "nbconvert_exporter": "python",
   "pygments_lexer": "ipython3",
   "version": "3.10.14"
  },
  "toc": {
   "base_numbering": 1,
   "nav_menu": {},
   "number_sections": true,
   "sideBar": true,
   "skip_h1_title": false,
   "title_cell": "Table of Contents",
   "title_sidebar": "Contents",
   "toc_cell": false,
   "toc_position": {},
   "toc_section_display": true,
   "toc_window_display": false
  }
 },
 "nbformat": 4,
 "nbformat_minor": 2
}
