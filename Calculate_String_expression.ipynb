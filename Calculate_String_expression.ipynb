{
 "cells": [
  {
   "cell_type": "markdown",
   "metadata": {},
   "source": [
    "## Evaluate String expression, Expression supports +, -, * and /. and also contains space in expression. "
   ]
  },
  {
   "cell_type": "code",
   "execution_count": 122,
   "metadata": {},
   "outputs": [],
   "source": [
    "def eval_string_expression(expression):\n",
    "    problem = remove_spaces(expression)\n",
    "    if not has_operators(problem):\n",
    "        return 'No operators found';\n",
    "    \n",
    "    problem = process_operations(problem, '*/')\n",
    "    \n",
    "    problem = process_operations(problem, '+-')\n",
    "    \n",
    "    return problem;\n"
   ]
  },
  {
   "cell_type": "code",
   "execution_count": 123,
   "metadata": {},
   "outputs": [],
   "source": [
    "def remove_spaces(expression):\n",
    "    cleaned = []\n",
    "    for char in expression:\n",
    "        if char != ' ':\n",
    "            cleaned.append(char)\n",
    "    return ''.join(cleaned)"
   ]
  },
  {
   "cell_type": "code",
   "execution_count": 124,
   "metadata": {},
   "outputs": [],
   "source": [
    "def has_operators(expression):\n",
    "    for char in expression:\n",
    "        if char in '+-*/':\n",
    "            return True\n",
    "    return False;"
   ]
  },
  {
   "cell_type": "code",
   "execution_count": 127,
   "metadata": {},
   "outputs": [],
   "source": [
    "def process_operations(exp, operators):\n",
    "    changed = True\n",
    "    while changed:\n",
    "        changed = False\n",
    "        i = 0\n",
    "        while i < len(exp):\n",
    "            if exp[i] in operators:\n",
    "                if i == 0 and exp[i] == '-':\n",
    "                    i += 1\n",
    "                    continue\n",
    "                \n",
    "                left_num = get_left_number(exp, i)\n",
    "                right_num = get_right_number(exp, i)\n",
    "                \n",
    "                if left_num and right_num:\n",
    "                    result = calculate_operation(left_num, right_num, exp[i])\n",
    "                    left_start = i - len(left_num)\n",
    "                    right_end = i + 1 + len(right_num)\n",
    "                    \n",
    "                    print(f\"left :: {exp[:left_start]}, result :: {result} and right_end {exp[right_end:]}\")\n",
    "                    exp = exp[:left_start] + str(result) + exp[right_end:]\n",
    "                    \n",
    "                    \n",
    "                    changed = True\n",
    "                    break\n",
    "            i += 1\n",
    "    return exp"
   ]
  },
  {
   "cell_type": "code",
   "execution_count": 128,
   "metadata": {},
   "outputs": [],
   "source": [
    "def get_left_number(exp, pos):\n",
    "    num = ''\n",
    "    i = pos - 1\n",
    "    while i >= 0 and (exp[i].isdigit() or exp[i] == '.'):\n",
    "        print(f\"expression_left in while :: {exp[i]+num}\")\n",
    "        num = exp[i] + num\n",
    "        i -= 1\n",
    "    return num;"
   ]
  },
  {
   "cell_type": "code",
   "execution_count": 120,
   "metadata": {},
   "outputs": [],
   "source": [
    "def get_right_number(exp, pos):\n",
    "    num = ''\n",
    "    i = pos + 1\n",
    "    while i < len(exp) and (exp[i].isdigit() or exp[i] == '.'):\n",
    "        print(f\"expression_right in while :: {exp[i]}\")\n",
    "        num += exp[i]\n",
    "        i += 1\n",
    "    return num"
   ]
  },
  {
   "cell_type": "code",
   "execution_count": 112,
   "metadata": {},
   "outputs": [],
   "source": [
    "def calculate_operation(num1, num2, operator):\n",
    "    num1 = float(num1)\n",
    "    num2 = float(num2)\n",
    "    if operator == '*':\n",
    "        return num1 * num2\n",
    "    elif operator == '/':\n",
    "        return num1 / num2\n",
    "    elif operator == '+':\n",
    "        return num1 + num2\n",
    "    else:\n",
    "        return num1 - num2"
   ]
  },
  {
   "cell_type": "code",
   "execution_count": 133,
   "metadata": {},
   "outputs": [
    {
     "name": "stdout",
     "output_type": "stream",
     "text": [
      "expression_left in while :: 2\n",
      "expression_left in while :: 12\n",
      "expression_right in while :: 3\n",
      "left :: , result :: 4.0 and right_end +67*2-4\n",
      "expression_left in while :: 7\n",
      "expression_left in while :: 67\n",
      "expression_right in while :: 2\n",
      "left :: 4.0+, result :: 134.0 and right_end -4\n",
      "expression_left in while :: 0\n",
      "expression_left in while :: .0\n",
      "expression_left in while :: 4.0\n",
      "expression_right in while :: 1\n",
      "expression_right in while :: 3\n",
      "expression_right in while :: 4\n",
      "expression_right in while :: .\n",
      "expression_right in while :: 0\n",
      "left :: , result :: 138.0 and right_end -4\n",
      "expression_left in while :: 0\n",
      "expression_left in while :: .0\n",
      "expression_left in while :: 8.0\n",
      "expression_left in while :: 38.0\n",
      "expression_left in while :: 138.0\n",
      "expression_right in while :: 4\n",
      "left :: , result :: 134.0 and right_end \n"
     ]
    },
    {
     "data": {
      "text/plain": [
       "'134.0'"
      ]
     },
     "execution_count": 133,
     "metadata": {},
     "output_type": "execute_result"
    }
   ],
   "source": [
    "eval_string_expression(\"12/3+67*2-4\")"
   ]
  },
  {
   "cell_type": "code",
   "execution_count": null,
   "metadata": {},
   "outputs": [],
   "source": []
  }
 ],
 "metadata": {
  "kernelspec": {
   "display_name": "Python3.10",
   "language": "python",
   "name": "python3.10"
  },
  "language_info": {
   "codemirror_mode": {
    "name": "ipython",
    "version": 3
   },
   "file_extension": ".py",
   "mimetype": "text/x-python",
   "name": "python",
   "nbconvert_exporter": "python",
   "pygments_lexer": "ipython3",
   "version": "3.10.14"
  },
  "toc": {
   "base_numbering": 1,
   "nav_menu": {},
   "number_sections": true,
   "sideBar": true,
   "skip_h1_title": false,
   "title_cell": "Table of Contents",
   "title_sidebar": "Contents",
   "toc_cell": false,
   "toc_position": {},
   "toc_section_display": true,
   "toc_window_display": false
  }
 },
 "nbformat": 4,
 "nbformat_minor": 2
}
