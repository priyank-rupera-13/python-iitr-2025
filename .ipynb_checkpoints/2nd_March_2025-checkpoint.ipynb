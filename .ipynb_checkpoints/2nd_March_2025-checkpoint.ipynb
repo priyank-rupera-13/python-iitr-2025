{
 "cells": [
  {
   "cell_type": "markdown",
   "metadata": {},
   "source": [
    "## ------------------------------------------  Class Works Start Here ----------------------------------------"
   ]
  },
  {
   "cell_type": "code",
   "execution_count": null,
   "metadata": {},
   "outputs": [],
   "source": []
  },
  {
   "cell_type": "code",
   "execution_count": 4,
   "metadata": {},
   "outputs": [],
   "source": [
    "def swapTwoVariables(x,y):\n",
    "    x, y=y, x\n",
    "    print (f\"x : {x}, y {y}\")"
   ]
  },
  {
   "cell_type": "code",
   "execution_count": 10,
   "metadata": {},
   "outputs": [
    {
     "name": "stdout",
     "output_type": "stream",
     "text": [
      "x : 3459876768975, y -345676897598\n"
     ]
    }
   ],
   "source": [
    "swapTwoVariables(-345676897598,3459876768975)"
   ]
  },
  {
   "cell_type": "markdown",
   "metadata": {},
   "source": [
    "## Swap two numbers without using third variable"
   ]
  },
  {
   "cell_type": "code",
   "execution_count": 6,
   "metadata": {},
   "outputs": [],
   "source": [
    "def swapTwoVariableWithoutThirdVariable(x,y):\n",
    "    x = x+y\n",
    "    y = x-y\n",
    "    x = x-y\n",
    "    print (f\"x : {x}, y {y}\")"
   ]
  },
  {
   "cell_type": "code",
   "execution_count": 8,
   "metadata": {},
   "outputs": [
    {
     "name": "stdout",
     "output_type": "stream",
     "text": [
      "x : 7, y 7\n"
     ]
    }
   ],
   "source": [
    "swapTwoVariableWithoutThirdVariable(7,7)"
   ]
  },
  {
   "cell_type": "markdown",
   "metadata": {},
   "source": [
    "## Circular Shift"
   ]
  },
  {
   "cell_type": "code",
   "execution_count": 47,
   "metadata": {},
   "outputs": [],
   "source": [
    "def circular_shift(x,y,z):\n",
    "    p = x\n",
    "    x = y\n",
    "    y = z\n",
    "    z = p\n",
    "    return x, y, z\n",
    "  \n"
   ]
  },
  {
   "cell_type": "code",
   "execution_count": 48,
   "metadata": {},
   "outputs": [
    {
     "name": "stdout",
     "output_type": "stream",
     "text": [
      "Circular Shift is :: (20, 30, 10)\n"
     ]
    }
   ],
   "source": [
    "result = circular_shift(10,20,30)\n",
    "print(f\"Circular Shift is :: {result}\")"
   ]
  },
  {
   "cell_type": "markdown",
   "metadata": {},
   "source": [
    "## Shift Array circular without using extra array"
   ]
  },
  {
   "cell_type": "code",
   "execution_count": 20,
   "metadata": {},
   "outputs": [],
   "source": [
    "def circular_shift_array(x):\n",
    "    firstElement = x[0]\n",
    "    for i in range(len(x)-1):\n",
    "        x[i] = x[i+1]\n",
    "    x[-1] = firstElement\n",
    "    print(f\"Output : {x}\")\n",
    "        "
   ]
  },
  {
   "cell_type": "code",
   "execution_count": 21,
   "metadata": {},
   "outputs": [
    {
     "name": "stdout",
     "output_type": "stream",
     "text": [
      "Output : [30, 40, 50, 6, 20]\n"
     ]
    }
   ],
   "source": [
    "x = [20,30,40,50,6]\n",
    "circular_shift_array(x)"
   ]
  },
  {
   "cell_type": "markdown",
   "metadata": {},
   "source": [
    "## Shift Array to k position using Arrays"
   ]
  },
  {
   "cell_type": "code",
   "execution_count": 25,
   "metadata": {},
   "outputs": [],
   "source": [
    "def shift_k_position(x,k):\n",
    "    slice_array = x[:k]\n",
    "    remaining_array = x[k:]\n",
    "    output_array = remaining_array + slice_array\n",
    "    print(f\"Shifted_array :  {output_array}\")\n",
    "    "
   ]
  },
  {
   "cell_type": "code",
   "execution_count": 26,
   "metadata": {},
   "outputs": [
    {
     "name": "stdout",
     "output_type": "stream",
     "text": [
      "Shifted_array :  [3, 4, 5, 6, 1, 2]\n"
     ]
    }
   ],
   "source": [
    "x = [1,2,3,4,5,6]\n",
    "k = 2\n",
    "shift_k_position(x,k)"
   ]
  },
  {
   "cell_type": "markdown",
   "metadata": {},
   "source": [
    "## Shift Array to K position without using another array using for loops"
   ]
  },
  {
   "cell_type": "code",
   "execution_count": 72,
   "metadata": {},
   "outputs": [],
   "source": [
    "def shift_k_position_without_using_array1(arr, k):\n",
    "    n = len(arr) \n",
    "    \n",
    "    k_slice_string = \"\"\n",
    "    \n",
    "    for i in range(k):\n",
    "        k_slice_string += str(arr[i]) + \",\"  \n",
    "    k_slice_string = k_slice_string[:-1]  \n",
    "\n",
    "    for i in range(k, n):\n",
    "        arr[i - k] = arr[i]\n",
    "    \n",
    "    index = 0\n",
    "    for value in k_slice_string.split(\",\"):\n",
    "        arr[n - k + index] = int(value)  \n",
    "        index += 1\n",
    "\n",
    "    return arr"
   ]
  },
  {
   "cell_type": "code",
   "execution_count": 73,
   "metadata": {},
   "outputs": [
    {
     "name": "stdout",
     "output_type": "stream",
     "text": [
      "Shifted array : [-4, -5, 6, 7, 8, 9, 10, 11, 12, 13, 14, 15, 16, 17, -1, -2, -3]\n"
     ]
    }
   ],
   "source": [
    "arr = [-1, -2, -3, -4, -5, 6,7,8,9,10,11,12,13,14,15,16,17]\n",
    "k = 3\n",
    "shifted_array = shift_k_position_without_using_array1(arr, k)\n",
    "print(f\"Shifted array : {shifted_array}\")"
   ]
  },
  {
   "cell_type": "markdown",
   "metadata": {},
   "source": [
    "## Shift K position without using array"
   ]
  },
  {
   "cell_type": "code",
   "execution_count": 2,
   "metadata": {},
   "outputs": [],
   "source": [
    "def shift_k_position_without_using_array(arr, k):\n",
    "    n = len(arr)\n",
    "    k_slice_string = \",\".join(map(str, arr[:k]))  \n",
    "    arr[:n - k] = arr[k:]\n",
    "    arr[n - k:] = list(map(int, k_slice_string.split(\",\")))\n",
    "    return arr"
   ]
  },
  {
   "cell_type": "code",
   "execution_count": 3,
   "metadata": {},
   "outputs": [
    {
     "name": "stdout",
     "output_type": "stream",
     "text": [
      "Shifted array : [-4, -5, 6, 7, 8, 9, 10, 11, 12, 13, 14, 15, 16, 17, -1, -2, -3]\n"
     ]
    }
   ],
   "source": [
    "arr = [-1, -2, -3, -4, -5, 6,7,8,9,10,11,12,13,14,15,16,17]\n",
    "k = 3\n",
    "shifted_array = shift_k_position_without_using_array(arr, k)\n",
    "print(f\"Shifted array : {shifted_array}\")"
   ]
  },
  {
   "cell_type": "markdown",
   "metadata": {},
   "source": [
    "## ----------- Class Work Ends Here -----------------"
   ]
  },
  {
   "cell_type": "markdown",
   "metadata": {},
   "source": [
    "# Assignment Questions "
   ]
  },
  {
   "cell_type": "markdown",
   "metadata": {},
   "source": [
    "# Question 1:  Given three lists of numbers, return the list of their XORs"
   ]
  },
  {
   "cell_type": "code",
   "execution_count": null,
   "metadata": {},
   "outputs": [],
   "source": [
    "def find_xor(x,y,z):\n",
    "    n = len(x)\n",
    "    result = []\n",
    "    for i in range (n):\n",
    "        result.append(x[i] ^ y[i] ^ z[i])\n",
    "    return result"
   ]
  },
  {
   "cell_type": "code",
   "execution_count": 60,
   "metadata": {},
   "outputs": [
    {
     "name": "stdout",
     "output_type": "stream",
     "text": [
      "XOR of given [1, 2, 3] [2, 3, 4] [5, 6, 7] is [6, 7, 0]\n"
     ]
    }
   ],
   "source": [
    "x=[1,2,3]\n",
    "y=[2,3,4]\n",
    "z=[5,6,7]\n",
    "result = find_xor(x,y,z)\n",
    "print(f\"XOR of given {x} {y} {z} is {result}\")"
   ]
  },
  {
   "cell_type": "markdown",
   "metadata": {},
   "source": [
    "# Question 2 : Reverse the List of number without using inbuild function or slicing"
   ]
  },
  {
   "cell_type": "code",
   "execution_count": 61,
   "metadata": {},
   "outputs": [],
   "source": [
    "def reverse_list(x):\n",
    "    n = len(x)\n",
    "    final_list = []\n",
    "    for i in range(n):\n",
    "        final_list.append(x[n - i - 1])\n",
    "    return final_list\n",
    "    "
   ]
  },
  {
   "cell_type": "code",
   "execution_count": 62,
   "metadata": {},
   "outputs": [
    {
     "name": "stdout",
     "output_type": "stream",
     "text": [
      "Reverse list is : [90, 89, 67, 4, 3, 2, 1]\n"
     ]
    }
   ],
   "source": [
    "x = [1,2,3,4,67,89,90]\n",
    "output_list = reverse_list(x)\n",
    "print(f\"Reverse list is : {output_list}\")"
   ]
  },
  {
   "cell_type": "markdown",
   "metadata": {},
   "source": [
    "   ## Level up : Reverse the List of number without using inbuild function or slicing and without using extra array or list "
   ]
  },
  {
   "cell_type": "code",
   "execution_count": 63,
   "metadata": {},
   "outputs": [],
   "source": [
    "def reverse_list_without_array(x):\n",
    "    start = 0\n",
    "    end = len(x) - 1\n",
    "    \n",
    "    while start < end:\n",
    "        x[start],x[end] = x[end],x[start]\n",
    "        start = start + 1\n",
    "        end = end - 1\n",
    "    return x\n",
    "    "
   ]
  },
  {
   "cell_type": "code",
   "execution_count": 64,
   "metadata": {
    "scrolled": true
   },
   "outputs": [
    {
     "name": "stdout",
     "output_type": "stream",
     "text": [
      "Reverse list without using array is : [90, 89, 67, 4, 3, 2, 1]\n"
     ]
    }
   ],
   "source": [
    "x = [1,2,3,4,67,89,90]\n",
    "output_list = reverse_list(x)\n",
    "print(f\"Reverse list without using array is : {output_list}\")"
   ]
  },
  {
   "cell_type": "markdown",
   "metadata": {},
   "source": [
    "# Question 3 : Shift all values circularly to left by one place without extra array"
   ]
  },
  {
   "cell_type": "code",
   "execution_count": 65,
   "metadata": {},
   "outputs": [],
   "source": [
    "def circular_shift_array_by_one_position(x):\n",
    "    firstElement = x[0]\n",
    "    for i in range(len(x)-1):\n",
    "        x[i] = x[i+1]\n",
    "    x[-1] = firstElement\n",
    "    print(f\"Output : {x}\")"
   ]
  },
  {
   "cell_type": "code",
   "execution_count": 66,
   "metadata": {},
   "outputs": [
    {
     "name": "stdout",
     "output_type": "stream",
     "text": [
      "Output : [20, 30, 40, 10]\n"
     ]
    }
   ],
   "source": [
    "x = [10,20,30,40]\n",
    "circular_shift_array_by_one_position (x)"
   ]
  },
  {
   "cell_type": "markdown",
   "metadata": {},
   "source": [
    "## Level up : Shift the arr by k places to left circularly without using extra array "
   ]
  },
  {
   "cell_type": "code",
   "execution_count": 67,
   "metadata": {},
   "outputs": [],
   "source": [
    "def shift_k_position_without_using_array(arr, k):\n",
    "    n = len(arr)\n",
    "    k_slice_string = \",\".join(map(str, arr[:k]))  \n",
    "    arr[:n - k] = arr[k:]\n",
    "    arr[n - k:] = list(map(int, k_slice_string.split(\",\")))\n",
    "    return arr"
   ]
  },
  {
   "cell_type": "code",
   "execution_count": 68,
   "metadata": {},
   "outputs": [
    {
     "name": "stdout",
     "output_type": "stream",
     "text": [
      "Output ::  [30, 40, 50, 60, 10, 20]\n"
     ]
    }
   ],
   "source": [
    "arr = [10,20,30,40,50,60]\n",
    "k = 2\n",
    "output = shift_k_position_without_using_array(arr,k)\n",
    "print (f\"Output ::  {output}\")"
   ]
  },
  {
   "cell_type": "code",
   "execution_count": null,
   "metadata": {},
   "outputs": [],
   "source": []
  }
 ],
 "metadata": {
  "kernelspec": {
   "display_name": "Python3.10",
   "language": "python",
   "name": "python3.10"
  },
  "language_info": {
   "codemirror_mode": {
    "name": "ipython",
    "version": 3
   },
   "file_extension": ".py",
   "mimetype": "text/x-python",
   "name": "python",
   "nbconvert_exporter": "python",
   "pygments_lexer": "ipython3",
   "version": "3.10.14"
  },
  "toc": {
   "base_numbering": 1,
   "nav_menu": {},
   "number_sections": true,
   "sideBar": true,
   "skip_h1_title": false,
   "title_cell": "Table of Contents",
   "title_sidebar": "Contents",
   "toc_cell": false,
   "toc_position": {},
   "toc_section_display": true,
   "toc_window_display": false
  }
 },
 "nbformat": 4,
 "nbformat_minor": 2
}
